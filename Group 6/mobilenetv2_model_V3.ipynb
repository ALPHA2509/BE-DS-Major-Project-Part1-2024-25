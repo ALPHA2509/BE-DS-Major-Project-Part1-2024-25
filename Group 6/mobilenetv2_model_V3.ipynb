{
  "cells": [
    {
      "cell_type": "code",
      "execution_count": 10,
      "metadata": {
        "execution": {
          "iopub.execute_input": "2021-06-28T21:12:08.176151Z",
          "iopub.status.busy": "2021-06-28T21:12:08.175772Z",
          "iopub.status.idle": "2021-06-28T21:12:08.188567Z",
          "shell.execute_reply": "2021-06-28T21:12:08.187647Z",
          "shell.execute_reply.started": "2021-06-28T21:12:08.176065Z"
        },
        "id": "YMm4qVv5qtGE",
        "outputId": "e7c66872-4b9d-413a-9bc8-27540d1bf676",
        "colab": {
          "base_uri": "https://localhost:8080/"
        }
      },
      "outputs": [
        {
          "output_type": "stream",
          "name": "stdout",
          "text": [
            "Linux-6.1.85+-x86_64-with-glibc2.35\n"
          ]
        }
      ],
      "source": [
        "import os\n",
        "import platform\n",
        "from IPython.display import clear_output\n",
        "print(platform.platform())\n",
        "\n",
        "def resolve_dir(Dir):\n",
        "    if not os.path.exists(Dir):\n",
        "        os.mkdir(Dir)\n",
        "\n",
        "def reset_path(Dir):\n",
        "    if not os.path.exists(Dir):\n",
        "        os.mkdir(Dir)\n",
        "    else:\n",
        "        os.system('rm -f {}/*'.format( Dir))"
      ]
    },
    {
      "cell_type": "code",
      "execution_count": 11,
      "metadata": {
        "execution": {
          "iopub.execute_input": "2021-06-28T21:12:12.539247Z",
          "iopub.status.busy": "2021-06-28T21:12:12.538912Z",
          "iopub.status.idle": "2021-06-28T21:12:18.360385Z",
          "shell.execute_reply": "2021-06-28T21:12:18.359448Z",
          "shell.execute_reply.started": "2021-06-28T21:12:12.539218Z"
        },
        "id": "m77ifGzHqtBg",
        "outputId": "72a9e9e5-9f64-418b-ccec-cc04936cfc11",
        "colab": {
          "base_uri": "https://localhost:8080/"
        }
      },
      "outputs": [
        {
          "output_type": "stream",
          "name": "stdout",
          "text": [
            "/bin/bash: line 1: nvidia-smi: command not found\n",
            "Tensorflow version 2.15.0\n"
          ]
        }
      ],
      "source": [
        "import tensorflow as tf\n",
        "tf.random.set_seed(73)\n",
        "TPU_INIT = False\n",
        "\n",
        "if TPU_INIT:\n",
        "    try:\n",
        "        tpu = tf.distribute.cluster_resolver.TPUClusterResolver.connect()\n",
        "        tpu_strategy = tf.distribute.experimental.TPUStrategy(tpu)\n",
        "\n",
        "    except ValueError:\n",
        "        raise BaseException('ERROR: Not connected to a TPU runtime!')\n",
        "else:\n",
        "    !nvidia-smi\n",
        ";\n",
        "print(\"Tensorflow version \" + tf.__version__)"
      ]
    },
    {
      "cell_type": "code",
      "source": [
        "# prompt: how do i get connected to drive, so i can further upload dataset from drive\n",
        "\n",
        "from google.colab import drive\n",
        "drive.mount('/content/drive')\n"
      ],
      "metadata": {
        "colab": {
          "base_uri": "https://localhost:8080/"
        },
        "id": "uIOvhqDs-YrI",
        "outputId": "9f0d88b7-71a6-449f-fa0a-2bc9f6e2a478"
      },
      "execution_count": 12,
      "outputs": [
        {
          "output_type": "stream",
          "name": "stdout",
          "text": [
            "Drive already mounted at /content/drive; to attempt to forcibly remount, call drive.mount(\"/content/drive\", force_remount=True).\n"
          ]
        }
      ]
    },
    {
      "cell_type": "code",
      "execution_count": 13,
      "metadata": {
        "execution": {
          "iopub.execute_input": "2021-06-28T21:12:26.392432Z",
          "iopub.status.busy": "2021-06-28T21:12:26.392057Z",
          "iopub.status.idle": "2021-06-28T21:12:27.147421Z",
          "shell.execute_reply": "2021-06-28T21:12:27.146411Z",
          "shell.execute_reply.started": "2021-06-28T21:12:26.392397Z"
        },
        "id": "DwRUpYt5qs1l"
      },
      "outputs": [],
      "source": [
        "MyDrive = '/content/drive'\n",
        "PROJECT_DIR = '/content/drive/My Drive/VD_Project/Violence_Detection/Video_data'"
      ]
    },
    {
      "cell_type": "markdown",
      "metadata": {
        "id": "xelnEP2OsH_7"
      },
      "source": [
        "## **Preprocessing**\n",
        "+ **Getting frames form video**\n",
        "+ **some image argumentations**"
      ]
    },
    {
      "cell_type": "code",
      "source": [
        "!pip install imgaug"
      ],
      "metadata": {
        "colab": {
          "base_uri": "https://localhost:8080/"
        },
        "id": "diIIGa36mN7X",
        "outputId": "66d89372-bad5-42c7-9b10-9588faeec783"
      },
      "execution_count": 14,
      "outputs": [
        {
          "output_type": "stream",
          "name": "stdout",
          "text": [
            "Requirement already satisfied: imgaug in /usr/local/lib/python3.10/dist-packages (0.4.0)\n",
            "Requirement already satisfied: six in /usr/local/lib/python3.10/dist-packages (from imgaug) (1.16.0)\n",
            "Requirement already satisfied: numpy>=1.15 in /usr/local/lib/python3.10/dist-packages (from imgaug) (1.26.4)\n",
            "Requirement already satisfied: scipy in /usr/local/lib/python3.10/dist-packages (from imgaug) (1.13.1)\n",
            "Requirement already satisfied: Pillow in /usr/local/lib/python3.10/dist-packages (from imgaug) (11.0.0)\n",
            "Requirement already satisfied: matplotlib in /usr/local/lib/python3.10/dist-packages (from imgaug) (3.7.1)\n",
            "Requirement already satisfied: scikit-image>=0.14.2 in /usr/local/lib/python3.10/dist-packages (from imgaug) (0.24.0)\n",
            "Requirement already satisfied: opencv-python in /usr/local/lib/python3.10/dist-packages (from imgaug) (4.10.0.84)\n",
            "Requirement already satisfied: imageio in /usr/local/lib/python3.10/dist-packages (from imgaug) (2.36.0)\n",
            "Requirement already satisfied: Shapely in /usr/local/lib/python3.10/dist-packages (from imgaug) (2.0.6)\n",
            "Requirement already satisfied: networkx>=2.8 in /usr/local/lib/python3.10/dist-packages (from scikit-image>=0.14.2->imgaug) (3.4.1)\n",
            "Requirement already satisfied: tifffile>=2022.8.12 in /usr/local/lib/python3.10/dist-packages (from scikit-image>=0.14.2->imgaug) (2024.9.20)\n",
            "Requirement already satisfied: packaging>=21 in /usr/local/lib/python3.10/dist-packages (from scikit-image>=0.14.2->imgaug) (24.1)\n",
            "Requirement already satisfied: lazy-loader>=0.4 in /usr/local/lib/python3.10/dist-packages (from scikit-image>=0.14.2->imgaug) (0.4)\n",
            "Requirement already satisfied: contourpy>=1.0.1 in /usr/local/lib/python3.10/dist-packages (from matplotlib->imgaug) (1.3.0)\n",
            "Requirement already satisfied: cycler>=0.10 in /usr/local/lib/python3.10/dist-packages (from matplotlib->imgaug) (0.12.1)\n",
            "Requirement already satisfied: fonttools>=4.22.0 in /usr/local/lib/python3.10/dist-packages (from matplotlib->imgaug) (4.54.1)\n",
            "Requirement already satisfied: kiwisolver>=1.0.1 in /usr/local/lib/python3.10/dist-packages (from matplotlib->imgaug) (1.4.7)\n",
            "Requirement already satisfied: pyparsing>=2.3.1 in /usr/local/lib/python3.10/dist-packages (from matplotlib->imgaug) (3.2.0)\n",
            "Requirement already satisfied: python-dateutil>=2.7 in /usr/local/lib/python3.10/dist-packages (from matplotlib->imgaug) (2.9.0.post0)\n"
          ]
        }
      ]
    },
    {
      "cell_type": "code",
      "execution_count": 15,
      "metadata": {
        "execution": {
          "iopub.execute_input": "2021-06-28T21:13:35.503988Z",
          "iopub.status.busy": "2021-06-28T21:13:35.503640Z",
          "iopub.status.idle": "2021-06-28T21:13:37.178990Z",
          "shell.execute_reply": "2021-06-28T21:13:37.178190Z",
          "shell.execute_reply.started": "2021-06-28T21:13:35.503957Z"
        },
        "id": "VNftx0E_sH_9"
      },
      "outputs": [],
      "source": [
        "import cv2\n",
        "import os\n",
        "import imageio\n",
        "import imgaug.augmenters as iaa\n",
        "import imgaug as ia\n",
        "\n",
        "IMG_SIZE = 128\n",
        "ColorChannels = 3\n",
        "\n",
        "def video_to_frames(video):\n",
        "    vidcap = cv2.VideoCapture(video)\n",
        "\n",
        "    import math\n",
        "    rate = math.floor(vidcap.get(3))\n",
        "    count = 0\n",
        "\n",
        "    ImageFrames = []\n",
        "    while vidcap.isOpened():\n",
        "        ID = vidcap.get(1)\n",
        "        success, image = vidcap.read()\n",
        "\n",
        "        if success:\n",
        "            # skipping frames to avoid duplications\n",
        "            if (ID % 7 == 0):\n",
        "                flip = iaa.Fliplr(1.0)\n",
        "                zoom = iaa.Affine(scale=1.3)\n",
        "                random_brightness = iaa.Multiply((1, 1.3))\n",
        "                rotate = iaa.Affine(rotate=(-25, 25))\n",
        "\n",
        "                image_aug = flip(image = image)\n",
        "                image_aug = random_brightness(image = image_aug)\n",
        "                image_aug = zoom(image = image_aug)\n",
        "                image_aug = rotate(image = image_aug)\n",
        "\n",
        "                rgb_img = cv2.cvtColor(image_aug, cv2.COLOR_BGR2RGB)\n",
        "                resized = cv2.resize(rgb_img, (IMG_SIZE, IMG_SIZE))\n",
        "                ImageFrames.append(resized)\n",
        "\n",
        "            count += 1\n",
        "        else:\n",
        "            break\n",
        "\n",
        "    vidcap.release()\n",
        "\n",
        "    return ImageFrames"
      ]
    },
    {
      "cell_type": "code",
      "execution_count": 9,
      "metadata": {
        "execution": {
          "iopub.execute_input": "2021-06-28T21:13:41.414231Z",
          "iopub.status.busy": "2021-06-28T21:13:41.413870Z",
          "iopub.status.idle": "2021-06-28T21:17:29.584414Z",
          "shell.execute_reply": "2021-06-28T21:17:29.581822Z",
          "shell.execute_reply.started": "2021-06-28T21:13:41.414198Z"
        },
        "id": "VtjFbXZKsH_-",
        "outputId": "6d9349c6-4ad2-4429-8053-2b54172453e1",
        "colab": {
          "base_uri": "https://localhost:8080/"
        }
      },
      "outputs": [
        {
          "output_type": "stream",
          "name": "stdout",
          "text": [
            "we have \n",
            "1000 Violence videos \n",
            "1000 NonViolence videos\n",
            "i choose 700 videos out of 2000, cuz of memory issue\n"
          ]
        },
        {
          "output_type": "stream",
          "name": "stderr",
          "text": [
            "100%|██████████| 999/999 [02:37<00:00,  6.35it/s]\n",
            "100%|██████████| 999/999 [04:23<00:00,  3.78it/s]"
          ]
        },
        {
          "output_type": "stream",
          "name": "stdout",
          "text": [
            "CPU times: user 16min 53s, sys: 4min 24s, total: 21min 17s\n",
            "Wall time: 7min 4s\n"
          ]
        },
        {
          "output_type": "stream",
          "name": "stderr",
          "text": [
            "\n"
          ]
        }
      ],
      "source": [
        "%%time\n",
        "from tqdm import tqdm\n",
        "\n",
        "VideoDataDir = PROJECT_DIR + '/Real Life Violence Dataset'\n",
        "print('we have \\n{} Violence videos \\n{} NonViolence videos'.format(\n",
        "              len(os.listdir(VideoDataDir + '/Violence')),\n",
        "              len(os.listdir(VideoDataDir + '/NonViolence'))))\n",
        "\n",
        "X_original = []\n",
        "y_original = []\n",
        "\n",
        "print('i choose 700 videos out of 2000, cuz of memory issue')\n",
        "CLASSES = [\"NonViolence\", \"Violence\"]\n",
        "#700 <- 350 + 350\n",
        "\n",
        "for category in os.listdir(VideoDataDir):\n",
        "    path = os.path.join(VideoDataDir, category)\n",
        "    class_num = CLASSES.index(category)\n",
        "    for i, video in enumerate(tqdm(os.listdir(path)[0:999])):\n",
        "        frames = video_to_frames(path + '/' + video)\n",
        "        for j, frame in enumerate(frames):\n",
        "            X_original.append(frame)\n",
        "            y_original.append(class_num)"
      ]
    },
    {
      "cell_type": "code",
      "execution_count": 16,
      "metadata": {
        "execution": {
          "iopub.execute_input": "2021-06-28T21:18:34.638320Z",
          "iopub.status.busy": "2021-06-28T21:18:34.637958Z",
          "iopub.status.idle": "2021-06-28T21:18:34.864211Z",
          "shell.execute_reply": "2021-06-28T21:18:34.863222Z",
          "shell.execute_reply.started": "2021-06-28T21:18:34.638286Z"
        },
        "id": "0Knwy2OjsH__",
        "outputId": "538d3b26-4066-4131-ad95-fa61d3c84221",
        "colab": {
          "base_uri": "https://localhost:8080/"
        }
      },
      "outputs": [
        {
          "output_type": "execute_result",
          "data": {
            "text/plain": [
              "41793"
            ]
          },
          "metadata": {},
          "execution_count": 16
        }
      ],
      "source": [
        "import numpy as np\n",
        "X_original = np.array(X_original).reshape(-1 , IMG_SIZE * IMG_SIZE * 3)\n",
        "y_original = np.array(y_original)\n",
        "len(X_original)"
      ]
    },
    {
      "cell_type": "code",
      "execution_count": 17,
      "metadata": {
        "execution": {
          "iopub.execute_input": "2021-06-28T21:18:40.130114Z",
          "iopub.status.busy": "2021-06-28T21:18:40.129780Z",
          "iopub.status.idle": "2021-06-28T21:18:42.322266Z",
          "shell.execute_reply": "2021-06-28T21:18:42.321377Z",
          "shell.execute_reply.started": "2021-06-28T21:18:40.130083Z"
        },
        "id": "ziCGqqa9sIAA"
      },
      "outputs": [],
      "source": [
        "from sklearn.model_selection import StratifiedShuffleSplit\n",
        "\n",
        "stratified_sample = StratifiedShuffleSplit(n_splits=2, test_size=0.3, random_state=73)\n",
        "\n",
        "for train_index, test_index in stratified_sample.split(X_original, y_original):\n",
        "    X_train, X_test = X_original[train_index], X_original[test_index]\n",
        "    y_train, y_test = y_original[train_index], y_original[test_index]\n",
        "\n",
        "X_train_nn = X_train.reshape(-1, IMG_SIZE, IMG_SIZE, 3) / 255\n",
        "X_test_nn = X_test.reshape(-1, IMG_SIZE, IMG_SIZE, 3) / 255"
      ]
    },
    {
      "cell_type": "markdown",
      "metadata": {
        "id": "fvmfQMM0p46i"
      },
      "source": [
        "## **Model Training**"
      ]
    },
    {
      "cell_type": "code",
      "execution_count": 18,
      "metadata": {
        "execution": {
          "iopub.execute_input": "2021-06-28T21:18:46.747492Z",
          "iopub.status.busy": "2021-06-28T21:18:46.747115Z",
          "iopub.status.idle": "2021-06-28T21:18:56.074221Z",
          "shell.execute_reply": "2021-06-28T21:18:56.073342Z",
          "shell.execute_reply.started": "2021-06-28T21:18:46.747463Z"
        },
        "id": "loeXLm9-sIAB"
      },
      "outputs": [],
      "source": [
        "!pip install imutils\n",
        "clear_output()"
      ]
    },
    {
      "cell_type": "code",
      "execution_count": 19,
      "metadata": {
        "execution": {
          "iopub.execute_input": "2021-06-28T21:19:00.024214Z",
          "iopub.status.busy": "2021-06-28T21:19:00.023698Z",
          "iopub.status.idle": "2021-06-28T21:19:00.097339Z",
          "shell.execute_reply": "2021-06-28T21:19:00.096328Z",
          "shell.execute_reply.started": "2021-06-28T21:19:00.024167Z"
        },
        "id": "f5SLkPZ2I01J"
      },
      "outputs": [],
      "source": [
        "import cv2\n",
        "import os\n",
        "import numpy as np\n",
        "import pickle\n",
        "import matplotlib\n",
        "matplotlib.use(\"Agg\")\n",
        "\n",
        "from keras.layers import Input\n",
        "from keras.models import Model\n",
        "from keras.layers import Dropout,Flatten,Dense\n",
        "\n",
        "import matplotlib.pyplot as plt"
      ]
    },
    {
      "cell_type": "code",
      "execution_count": 20,
      "metadata": {
        "_kg_hide-output": true,
        "execution": {
          "iopub.execute_input": "2021-06-28T21:19:03.585235Z",
          "iopub.status.busy": "2021-06-28T21:19:03.584867Z",
          "iopub.status.idle": "2021-06-28T21:19:06.799324Z",
          "shell.execute_reply": "2021-06-28T21:19:06.798517Z",
          "shell.execute_reply.started": "2021-06-28T21:19:03.585199Z"
        },
        "id": "dNsCZbY3p8VM",
        "outputId": "3a2101a7-6b73-40d6-c58d-0d7d52fb9e93",
        "colab": {
          "base_uri": "https://localhost:8080/"
        }
      },
      "outputs": [
        {
          "output_type": "stream",
          "name": "stderr",
          "text": [
            "WARNING:tensorflow:`input_shape` is undefined or non-square, or `rows` is not in [96, 128, 160, 192, 224]. Weights for input shape (224, 224) will be loaded as the default.\n"
          ]
        },
        {
          "output_type": "stream",
          "name": "stdout",
          "text": [
            "Downloading data from https://storage.googleapis.com/tensorflow/keras-applications/mobilenet_v2/mobilenet_v2_weights_tf_dim_ordering_tf_kernels_1.0_224_no_top.h5\n",
            "9406464/9406464 [==============================] - 0s 0us/step\n",
            "Compiling model...\n",
            "Model: \"model\"\n",
            "__________________________________________________________________________________________________\n",
            " Layer (type)                Output Shape                 Param #   Connected to                  \n",
            "==================================================================================================\n",
            " input_1 (InputLayer)        [(None, 128, 128, 3)]        0         []                            \n",
            "                                                                                                  \n",
            " Conv1 (Conv2D)              (None, 64, 64, 32)           864       ['input_1[0][0]']             \n",
            "                                                                                                  \n",
            " bn_Conv1 (BatchNormalizati  (None, 64, 64, 32)           128       ['Conv1[0][0]']               \n",
            " on)                                                                                              \n",
            "                                                                                                  \n",
            " Conv1_relu (ReLU)           (None, 64, 64, 32)           0         ['bn_Conv1[0][0]']            \n",
            "                                                                                                  \n",
            " expanded_conv_depthwise (D  (None, 64, 64, 32)           288       ['Conv1_relu[0][0]']          \n",
            " epthwiseConv2D)                                                                                  \n",
            "                                                                                                  \n",
            " expanded_conv_depthwise_BN  (None, 64, 64, 32)           128       ['expanded_conv_depthwise[0][0\n",
            "  (BatchNormalization)                                              ]']                           \n",
            "                                                                                                  \n",
            " expanded_conv_depthwise_re  (None, 64, 64, 32)           0         ['expanded_conv_depthwise_BN[0\n",
            " lu (ReLU)                                                          ][0]']                        \n",
            "                                                                                                  \n",
            " expanded_conv_project (Con  (None, 64, 64, 16)           512       ['expanded_conv_depthwise_relu\n",
            " v2D)                                                               [0][0]']                      \n",
            "                                                                                                  \n",
            " expanded_conv_project_BN (  (None, 64, 64, 16)           64        ['expanded_conv_project[0][0]'\n",
            " BatchNormalization)                                                ]                             \n",
            "                                                                                                  \n",
            " block_1_expand (Conv2D)     (None, 64, 64, 96)           1536      ['expanded_conv_project_BN[0][\n",
            "                                                                    0]']                          \n",
            "                                                                                                  \n",
            " block_1_expand_BN (BatchNo  (None, 64, 64, 96)           384       ['block_1_expand[0][0]']      \n",
            " rmalization)                                                                                     \n",
            "                                                                                                  \n",
            " block_1_expand_relu (ReLU)  (None, 64, 64, 96)           0         ['block_1_expand_BN[0][0]']   \n",
            "                                                                                                  \n",
            " block_1_pad (ZeroPadding2D  (None, 65, 65, 96)           0         ['block_1_expand_relu[0][0]'] \n",
            " )                                                                                                \n",
            "                                                                                                  \n",
            " block_1_depthwise (Depthwi  (None, 32, 32, 96)           864       ['block_1_pad[0][0]']         \n",
            " seConv2D)                                                                                        \n",
            "                                                                                                  \n",
            " block_1_depthwise_BN (Batc  (None, 32, 32, 96)           384       ['block_1_depthwise[0][0]']   \n",
            " hNormalization)                                                                                  \n",
            "                                                                                                  \n",
            " block_1_depthwise_relu (Re  (None, 32, 32, 96)           0         ['block_1_depthwise_BN[0][0]']\n",
            " LU)                                                                                              \n",
            "                                                                                                  \n",
            " block_1_project (Conv2D)    (None, 32, 32, 24)           2304      ['block_1_depthwise_relu[0][0]\n",
            "                                                                    ']                            \n",
            "                                                                                                  \n",
            " block_1_project_BN (BatchN  (None, 32, 32, 24)           96        ['block_1_project[0][0]']     \n",
            " ormalization)                                                                                    \n",
            "                                                                                                  \n",
            " block_2_expand (Conv2D)     (None, 32, 32, 144)          3456      ['block_1_project_BN[0][0]']  \n",
            "                                                                                                  \n",
            " block_2_expand_BN (BatchNo  (None, 32, 32, 144)          576       ['block_2_expand[0][0]']      \n",
            " rmalization)                                                                                     \n",
            "                                                                                                  \n",
            " block_2_expand_relu (ReLU)  (None, 32, 32, 144)          0         ['block_2_expand_BN[0][0]']   \n",
            "                                                                                                  \n",
            " block_2_depthwise (Depthwi  (None, 32, 32, 144)          1296      ['block_2_expand_relu[0][0]'] \n",
            " seConv2D)                                                                                        \n",
            "                                                                                                  \n",
            " block_2_depthwise_BN (Batc  (None, 32, 32, 144)          576       ['block_2_depthwise[0][0]']   \n",
            " hNormalization)                                                                                  \n",
            "                                                                                                  \n",
            " block_2_depthwise_relu (Re  (None, 32, 32, 144)          0         ['block_2_depthwise_BN[0][0]']\n",
            " LU)                                                                                              \n",
            "                                                                                                  \n",
            " block_2_project (Conv2D)    (None, 32, 32, 24)           3456      ['block_2_depthwise_relu[0][0]\n",
            "                                                                    ']                            \n",
            "                                                                                                  \n",
            " block_2_project_BN (BatchN  (None, 32, 32, 24)           96        ['block_2_project[0][0]']     \n",
            " ormalization)                                                                                    \n",
            "                                                                                                  \n",
            " block_2_add (Add)           (None, 32, 32, 24)           0         ['block_1_project_BN[0][0]',  \n",
            "                                                                     'block_2_project_BN[0][0]']  \n",
            "                                                                                                  \n",
            " block_3_expand (Conv2D)     (None, 32, 32, 144)          3456      ['block_2_add[0][0]']         \n",
            "                                                                                                  \n",
            " block_3_expand_BN (BatchNo  (None, 32, 32, 144)          576       ['block_3_expand[0][0]']      \n",
            " rmalization)                                                                                     \n",
            "                                                                                                  \n",
            " block_3_expand_relu (ReLU)  (None, 32, 32, 144)          0         ['block_3_expand_BN[0][0]']   \n",
            "                                                                                                  \n",
            " block_3_pad (ZeroPadding2D  (None, 33, 33, 144)          0         ['block_3_expand_relu[0][0]'] \n",
            " )                                                                                                \n",
            "                                                                                                  \n",
            " block_3_depthwise (Depthwi  (None, 16, 16, 144)          1296      ['block_3_pad[0][0]']         \n",
            " seConv2D)                                                                                        \n",
            "                                                                                                  \n",
            " block_3_depthwise_BN (Batc  (None, 16, 16, 144)          576       ['block_3_depthwise[0][0]']   \n",
            " hNormalization)                                                                                  \n",
            "                                                                                                  \n",
            " block_3_depthwise_relu (Re  (None, 16, 16, 144)          0         ['block_3_depthwise_BN[0][0]']\n",
            " LU)                                                                                              \n",
            "                                                                                                  \n",
            " block_3_project (Conv2D)    (None, 16, 16, 32)           4608      ['block_3_depthwise_relu[0][0]\n",
            "                                                                    ']                            \n",
            "                                                                                                  \n",
            " block_3_project_BN (BatchN  (None, 16, 16, 32)           128       ['block_3_project[0][0]']     \n",
            " ormalization)                                                                                    \n",
            "                                                                                                  \n",
            " block_4_expand (Conv2D)     (None, 16, 16, 192)          6144      ['block_3_project_BN[0][0]']  \n",
            "                                                                                                  \n",
            " block_4_expand_BN (BatchNo  (None, 16, 16, 192)          768       ['block_4_expand[0][0]']      \n",
            " rmalization)                                                                                     \n",
            "                                                                                                  \n",
            " block_4_expand_relu (ReLU)  (None, 16, 16, 192)          0         ['block_4_expand_BN[0][0]']   \n",
            "                                                                                                  \n",
            " block_4_depthwise (Depthwi  (None, 16, 16, 192)          1728      ['block_4_expand_relu[0][0]'] \n",
            " seConv2D)                                                                                        \n",
            "                                                                                                  \n",
            " block_4_depthwise_BN (Batc  (None, 16, 16, 192)          768       ['block_4_depthwise[0][0]']   \n",
            " hNormalization)                                                                                  \n",
            "                                                                                                  \n",
            " block_4_depthwise_relu (Re  (None, 16, 16, 192)          0         ['block_4_depthwise_BN[0][0]']\n",
            " LU)                                                                                              \n",
            "                                                                                                  \n",
            " block_4_project (Conv2D)    (None, 16, 16, 32)           6144      ['block_4_depthwise_relu[0][0]\n",
            "                                                                    ']                            \n",
            "                                                                                                  \n",
            " block_4_project_BN (BatchN  (None, 16, 16, 32)           128       ['block_4_project[0][0]']     \n",
            " ormalization)                                                                                    \n",
            "                                                                                                  \n",
            " block_4_add (Add)           (None, 16, 16, 32)           0         ['block_3_project_BN[0][0]',  \n",
            "                                                                     'block_4_project_BN[0][0]']  \n",
            "                                                                                                  \n",
            " block_5_expand (Conv2D)     (None, 16, 16, 192)          6144      ['block_4_add[0][0]']         \n",
            "                                                                                                  \n",
            " block_5_expand_BN (BatchNo  (None, 16, 16, 192)          768       ['block_5_expand[0][0]']      \n",
            " rmalization)                                                                                     \n",
            "                                                                                                  \n",
            " block_5_expand_relu (ReLU)  (None, 16, 16, 192)          0         ['block_5_expand_BN[0][0]']   \n",
            "                                                                                                  \n",
            " block_5_depthwise (Depthwi  (None, 16, 16, 192)          1728      ['block_5_expand_relu[0][0]'] \n",
            " seConv2D)                                                                                        \n",
            "                                                                                                  \n",
            " block_5_depthwise_BN (Batc  (None, 16, 16, 192)          768       ['block_5_depthwise[0][0]']   \n",
            " hNormalization)                                                                                  \n",
            "                                                                                                  \n",
            " block_5_depthwise_relu (Re  (None, 16, 16, 192)          0         ['block_5_depthwise_BN[0][0]']\n",
            " LU)                                                                                              \n",
            "                                                                                                  \n",
            " block_5_project (Conv2D)    (None, 16, 16, 32)           6144      ['block_5_depthwise_relu[0][0]\n",
            "                                                                    ']                            \n",
            "                                                                                                  \n",
            " block_5_project_BN (BatchN  (None, 16, 16, 32)           128       ['block_5_project[0][0]']     \n",
            " ormalization)                                                                                    \n",
            "                                                                                                  \n",
            " block_5_add (Add)           (None, 16, 16, 32)           0         ['block_4_add[0][0]',         \n",
            "                                                                     'block_5_project_BN[0][0]']  \n",
            "                                                                                                  \n",
            " block_6_expand (Conv2D)     (None, 16, 16, 192)          6144      ['block_5_add[0][0]']         \n",
            "                                                                                                  \n",
            " block_6_expand_BN (BatchNo  (None, 16, 16, 192)          768       ['block_6_expand[0][0]']      \n",
            " rmalization)                                                                                     \n",
            "                                                                                                  \n",
            " block_6_expand_relu (ReLU)  (None, 16, 16, 192)          0         ['block_6_expand_BN[0][0]']   \n",
            "                                                                                                  \n",
            " block_6_pad (ZeroPadding2D  (None, 17, 17, 192)          0         ['block_6_expand_relu[0][0]'] \n",
            " )                                                                                                \n",
            "                                                                                                  \n",
            " block_6_depthwise (Depthwi  (None, 8, 8, 192)            1728      ['block_6_pad[0][0]']         \n",
            " seConv2D)                                                                                        \n",
            "                                                                                                  \n",
            " block_6_depthwise_BN (Batc  (None, 8, 8, 192)            768       ['block_6_depthwise[0][0]']   \n",
            " hNormalization)                                                                                  \n",
            "                                                                                                  \n",
            " block_6_depthwise_relu (Re  (None, 8, 8, 192)            0         ['block_6_depthwise_BN[0][0]']\n",
            " LU)                                                                                              \n",
            "                                                                                                  \n",
            " block_6_project (Conv2D)    (None, 8, 8, 64)             12288     ['block_6_depthwise_relu[0][0]\n",
            "                                                                    ']                            \n",
            "                                                                                                  \n",
            " block_6_project_BN (BatchN  (None, 8, 8, 64)             256       ['block_6_project[0][0]']     \n",
            " ormalization)                                                                                    \n",
            "                                                                                                  \n",
            " block_7_expand (Conv2D)     (None, 8, 8, 384)            24576     ['block_6_project_BN[0][0]']  \n",
            "                                                                                                  \n",
            " block_7_expand_BN (BatchNo  (None, 8, 8, 384)            1536      ['block_7_expand[0][0]']      \n",
            " rmalization)                                                                                     \n",
            "                                                                                                  \n",
            " block_7_expand_relu (ReLU)  (None, 8, 8, 384)            0         ['block_7_expand_BN[0][0]']   \n",
            "                                                                                                  \n",
            " block_7_depthwise (Depthwi  (None, 8, 8, 384)            3456      ['block_7_expand_relu[0][0]'] \n",
            " seConv2D)                                                                                        \n",
            "                                                                                                  \n",
            " block_7_depthwise_BN (Batc  (None, 8, 8, 384)            1536      ['block_7_depthwise[0][0]']   \n",
            " hNormalization)                                                                                  \n",
            "                                                                                                  \n",
            " block_7_depthwise_relu (Re  (None, 8, 8, 384)            0         ['block_7_depthwise_BN[0][0]']\n",
            " LU)                                                                                              \n",
            "                                                                                                  \n",
            " block_7_project (Conv2D)    (None, 8, 8, 64)             24576     ['block_7_depthwise_relu[0][0]\n",
            "                                                                    ']                            \n",
            "                                                                                                  \n",
            " block_7_project_BN (BatchN  (None, 8, 8, 64)             256       ['block_7_project[0][0]']     \n",
            " ormalization)                                                                                    \n",
            "                                                                                                  \n",
            " block_7_add (Add)           (None, 8, 8, 64)             0         ['block_6_project_BN[0][0]',  \n",
            "                                                                     'block_7_project_BN[0][0]']  \n",
            "                                                                                                  \n",
            " block_8_expand (Conv2D)     (None, 8, 8, 384)            24576     ['block_7_add[0][0]']         \n",
            "                                                                                                  \n",
            " block_8_expand_BN (BatchNo  (None, 8, 8, 384)            1536      ['block_8_expand[0][0]']      \n",
            " rmalization)                                                                                     \n",
            "                                                                                                  \n",
            " block_8_expand_relu (ReLU)  (None, 8, 8, 384)            0         ['block_8_expand_BN[0][0]']   \n",
            "                                                                                                  \n",
            " block_8_depthwise (Depthwi  (None, 8, 8, 384)            3456      ['block_8_expand_relu[0][0]'] \n",
            " seConv2D)                                                                                        \n",
            "                                                                                                  \n",
            " block_8_depthwise_BN (Batc  (None, 8, 8, 384)            1536      ['block_8_depthwise[0][0]']   \n",
            " hNormalization)                                                                                  \n",
            "                                                                                                  \n",
            " block_8_depthwise_relu (Re  (None, 8, 8, 384)            0         ['block_8_depthwise_BN[0][0]']\n",
            " LU)                                                                                              \n",
            "                                                                                                  \n",
            " block_8_project (Conv2D)    (None, 8, 8, 64)             24576     ['block_8_depthwise_relu[0][0]\n",
            "                                                                    ']                            \n",
            "                                                                                                  \n",
            " block_8_project_BN (BatchN  (None, 8, 8, 64)             256       ['block_8_project[0][0]']     \n",
            " ormalization)                                                                                    \n",
            "                                                                                                  \n",
            " block_8_add (Add)           (None, 8, 8, 64)             0         ['block_7_add[0][0]',         \n",
            "                                                                     'block_8_project_BN[0][0]']  \n",
            "                                                                                                  \n",
            " block_9_expand (Conv2D)     (None, 8, 8, 384)            24576     ['block_8_add[0][0]']         \n",
            "                                                                                                  \n",
            " block_9_expand_BN (BatchNo  (None, 8, 8, 384)            1536      ['block_9_expand[0][0]']      \n",
            " rmalization)                                                                                     \n",
            "                                                                                                  \n",
            " block_9_expand_relu (ReLU)  (None, 8, 8, 384)            0         ['block_9_expand_BN[0][0]']   \n",
            "                                                                                                  \n",
            " block_9_depthwise (Depthwi  (None, 8, 8, 384)            3456      ['block_9_expand_relu[0][0]'] \n",
            " seConv2D)                                                                                        \n",
            "                                                                                                  \n",
            " block_9_depthwise_BN (Batc  (None, 8, 8, 384)            1536      ['block_9_depthwise[0][0]']   \n",
            " hNormalization)                                                                                  \n",
            "                                                                                                  \n",
            " block_9_depthwise_relu (Re  (None, 8, 8, 384)            0         ['block_9_depthwise_BN[0][0]']\n",
            " LU)                                                                                              \n",
            "                                                                                                  \n",
            " block_9_project (Conv2D)    (None, 8, 8, 64)             24576     ['block_9_depthwise_relu[0][0]\n",
            "                                                                    ']                            \n",
            "                                                                                                  \n",
            " block_9_project_BN (BatchN  (None, 8, 8, 64)             256       ['block_9_project[0][0]']     \n",
            " ormalization)                                                                                    \n",
            "                                                                                                  \n",
            " block_9_add (Add)           (None, 8, 8, 64)             0         ['block_8_add[0][0]',         \n",
            "                                                                     'block_9_project_BN[0][0]']  \n",
            "                                                                                                  \n",
            " block_10_expand (Conv2D)    (None, 8, 8, 384)            24576     ['block_9_add[0][0]']         \n",
            "                                                                                                  \n",
            " block_10_expand_BN (BatchN  (None, 8, 8, 384)            1536      ['block_10_expand[0][0]']     \n",
            " ormalization)                                                                                    \n",
            "                                                                                                  \n",
            " block_10_expand_relu (ReLU  (None, 8, 8, 384)            0         ['block_10_expand_BN[0][0]']  \n",
            " )                                                                                                \n",
            "                                                                                                  \n",
            " block_10_depthwise (Depthw  (None, 8, 8, 384)            3456      ['block_10_expand_relu[0][0]']\n",
            " iseConv2D)                                                                                       \n",
            "                                                                                                  \n",
            " block_10_depthwise_BN (Bat  (None, 8, 8, 384)            1536      ['block_10_depthwise[0][0]']  \n",
            " chNormalization)                                                                                 \n",
            "                                                                                                  \n",
            " block_10_depthwise_relu (R  (None, 8, 8, 384)            0         ['block_10_depthwise_BN[0][0]'\n",
            " eLU)                                                               ]                             \n",
            "                                                                                                  \n",
            " block_10_project (Conv2D)   (None, 8, 8, 96)             36864     ['block_10_depthwise_relu[0][0\n",
            "                                                                    ]']                           \n",
            "                                                                                                  \n",
            " block_10_project_BN (Batch  (None, 8, 8, 96)             384       ['block_10_project[0][0]']    \n",
            " Normalization)                                                                                   \n",
            "                                                                                                  \n",
            " block_11_expand (Conv2D)    (None, 8, 8, 576)            55296     ['block_10_project_BN[0][0]'] \n",
            "                                                                                                  \n",
            " block_11_expand_BN (BatchN  (None, 8, 8, 576)            2304      ['block_11_expand[0][0]']     \n",
            " ormalization)                                                                                    \n",
            "                                                                                                  \n",
            " block_11_expand_relu (ReLU  (None, 8, 8, 576)            0         ['block_11_expand_BN[0][0]']  \n",
            " )                                                                                                \n",
            "                                                                                                  \n",
            " block_11_depthwise (Depthw  (None, 8, 8, 576)            5184      ['block_11_expand_relu[0][0]']\n",
            " iseConv2D)                                                                                       \n",
            "                                                                                                  \n",
            " block_11_depthwise_BN (Bat  (None, 8, 8, 576)            2304      ['block_11_depthwise[0][0]']  \n",
            " chNormalization)                                                                                 \n",
            "                                                                                                  \n",
            " block_11_depthwise_relu (R  (None, 8, 8, 576)            0         ['block_11_depthwise_BN[0][0]'\n",
            " eLU)                                                               ]                             \n",
            "                                                                                                  \n",
            " block_11_project (Conv2D)   (None, 8, 8, 96)             55296     ['block_11_depthwise_relu[0][0\n",
            "                                                                    ]']                           \n",
            "                                                                                                  \n",
            " block_11_project_BN (Batch  (None, 8, 8, 96)             384       ['block_11_project[0][0]']    \n",
            " Normalization)                                                                                   \n",
            "                                                                                                  \n",
            " block_11_add (Add)          (None, 8, 8, 96)             0         ['block_10_project_BN[0][0]', \n",
            "                                                                     'block_11_project_BN[0][0]'] \n",
            "                                                                                                  \n",
            " block_12_expand (Conv2D)    (None, 8, 8, 576)            55296     ['block_11_add[0][0]']        \n",
            "                                                                                                  \n",
            " block_12_expand_BN (BatchN  (None, 8, 8, 576)            2304      ['block_12_expand[0][0]']     \n",
            " ormalization)                                                                                    \n",
            "                                                                                                  \n",
            " block_12_expand_relu (ReLU  (None, 8, 8, 576)            0         ['block_12_expand_BN[0][0]']  \n",
            " )                                                                                                \n",
            "                                                                                                  \n",
            " block_12_depthwise (Depthw  (None, 8, 8, 576)            5184      ['block_12_expand_relu[0][0]']\n",
            " iseConv2D)                                                                                       \n",
            "                                                                                                  \n",
            " block_12_depthwise_BN (Bat  (None, 8, 8, 576)            2304      ['block_12_depthwise[0][0]']  \n",
            " chNormalization)                                                                                 \n",
            "                                                                                                  \n",
            " block_12_depthwise_relu (R  (None, 8, 8, 576)            0         ['block_12_depthwise_BN[0][0]'\n",
            " eLU)                                                               ]                             \n",
            "                                                                                                  \n",
            " block_12_project (Conv2D)   (None, 8, 8, 96)             55296     ['block_12_depthwise_relu[0][0\n",
            "                                                                    ]']                           \n",
            "                                                                                                  \n",
            " block_12_project_BN (Batch  (None, 8, 8, 96)             384       ['block_12_project[0][0]']    \n",
            " Normalization)                                                                                   \n",
            "                                                                                                  \n",
            " block_12_add (Add)          (None, 8, 8, 96)             0         ['block_11_add[0][0]',        \n",
            "                                                                     'block_12_project_BN[0][0]'] \n",
            "                                                                                                  \n",
            " block_13_expand (Conv2D)    (None, 8, 8, 576)            55296     ['block_12_add[0][0]']        \n",
            "                                                                                                  \n",
            " block_13_expand_BN (BatchN  (None, 8, 8, 576)            2304      ['block_13_expand[0][0]']     \n",
            " ormalization)                                                                                    \n",
            "                                                                                                  \n",
            " block_13_expand_relu (ReLU  (None, 8, 8, 576)            0         ['block_13_expand_BN[0][0]']  \n",
            " )                                                                                                \n",
            "                                                                                                  \n",
            " block_13_pad (ZeroPadding2  (None, 9, 9, 576)            0         ['block_13_expand_relu[0][0]']\n",
            " D)                                                                                               \n",
            "                                                                                                  \n",
            " block_13_depthwise (Depthw  (None, 4, 4, 576)            5184      ['block_13_pad[0][0]']        \n",
            " iseConv2D)                                                                                       \n",
            "                                                                                                  \n",
            " block_13_depthwise_BN (Bat  (None, 4, 4, 576)            2304      ['block_13_depthwise[0][0]']  \n",
            " chNormalization)                                                                                 \n",
            "                                                                                                  \n",
            " block_13_depthwise_relu (R  (None, 4, 4, 576)            0         ['block_13_depthwise_BN[0][0]'\n",
            " eLU)                                                               ]                             \n",
            "                                                                                                  \n",
            " block_13_project (Conv2D)   (None, 4, 4, 160)            92160     ['block_13_depthwise_relu[0][0\n",
            "                                                                    ]']                           \n",
            "                                                                                                  \n",
            " block_13_project_BN (Batch  (None, 4, 4, 160)            640       ['block_13_project[0][0]']    \n",
            " Normalization)                                                                                   \n",
            "                                                                                                  \n",
            " block_14_expand (Conv2D)    (None, 4, 4, 960)            153600    ['block_13_project_BN[0][0]'] \n",
            "                                                                                                  \n",
            " block_14_expand_BN (BatchN  (None, 4, 4, 960)            3840      ['block_14_expand[0][0]']     \n",
            " ormalization)                                                                                    \n",
            "                                                                                                  \n",
            " block_14_expand_relu (ReLU  (None, 4, 4, 960)            0         ['block_14_expand_BN[0][0]']  \n",
            " )                                                                                                \n",
            "                                                                                                  \n",
            " block_14_depthwise (Depthw  (None, 4, 4, 960)            8640      ['block_14_expand_relu[0][0]']\n",
            " iseConv2D)                                                                                       \n",
            "                                                                                                  \n",
            " block_14_depthwise_BN (Bat  (None, 4, 4, 960)            3840      ['block_14_depthwise[0][0]']  \n",
            " chNormalization)                                                                                 \n",
            "                                                                                                  \n",
            " block_14_depthwise_relu (R  (None, 4, 4, 960)            0         ['block_14_depthwise_BN[0][0]'\n",
            " eLU)                                                               ]                             \n",
            "                                                                                                  \n",
            " block_14_project (Conv2D)   (None, 4, 4, 160)            153600    ['block_14_depthwise_relu[0][0\n",
            "                                                                    ]']                           \n",
            "                                                                                                  \n",
            " block_14_project_BN (Batch  (None, 4, 4, 160)            640       ['block_14_project[0][0]']    \n",
            " Normalization)                                                                                   \n",
            "                                                                                                  \n",
            " block_14_add (Add)          (None, 4, 4, 160)            0         ['block_13_project_BN[0][0]', \n",
            "                                                                     'block_14_project_BN[0][0]'] \n",
            "                                                                                                  \n",
            " block_15_expand (Conv2D)    (None, 4, 4, 960)            153600    ['block_14_add[0][0]']        \n",
            "                                                                                                  \n",
            " block_15_expand_BN (BatchN  (None, 4, 4, 960)            3840      ['block_15_expand[0][0]']     \n",
            " ormalization)                                                                                    \n",
            "                                                                                                  \n",
            " block_15_expand_relu (ReLU  (None, 4, 4, 960)            0         ['block_15_expand_BN[0][0]']  \n",
            " )                                                                                                \n",
            "                                                                                                  \n",
            " block_15_depthwise (Depthw  (None, 4, 4, 960)            8640      ['block_15_expand_relu[0][0]']\n",
            " iseConv2D)                                                                                       \n",
            "                                                                                                  \n",
            " block_15_depthwise_BN (Bat  (None, 4, 4, 960)            3840      ['block_15_depthwise[0][0]']  \n",
            " chNormalization)                                                                                 \n",
            "                                                                                                  \n",
            " block_15_depthwise_relu (R  (None, 4, 4, 960)            0         ['block_15_depthwise_BN[0][0]'\n",
            " eLU)                                                               ]                             \n",
            "                                                                                                  \n",
            " block_15_project (Conv2D)   (None, 4, 4, 160)            153600    ['block_15_depthwise_relu[0][0\n",
            "                                                                    ]']                           \n",
            "                                                                                                  \n",
            " block_15_project_BN (Batch  (None, 4, 4, 160)            640       ['block_15_project[0][0]']    \n",
            " Normalization)                                                                                   \n",
            "                                                                                                  \n",
            " block_15_add (Add)          (None, 4, 4, 160)            0         ['block_14_add[0][0]',        \n",
            "                                                                     'block_15_project_BN[0][0]'] \n",
            "                                                                                                  \n",
            " block_16_expand (Conv2D)    (None, 4, 4, 960)            153600    ['block_15_add[0][0]']        \n",
            "                                                                                                  \n",
            " block_16_expand_BN (BatchN  (None, 4, 4, 960)            3840      ['block_16_expand[0][0]']     \n",
            " ormalization)                                                                                    \n",
            "                                                                                                  \n",
            " block_16_expand_relu (ReLU  (None, 4, 4, 960)            0         ['block_16_expand_BN[0][0]']  \n",
            " )                                                                                                \n",
            "                                                                                                  \n",
            " block_16_depthwise (Depthw  (None, 4, 4, 960)            8640      ['block_16_expand_relu[0][0]']\n",
            " iseConv2D)                                                                                       \n",
            "                                                                                                  \n",
            " block_16_depthwise_BN (Bat  (None, 4, 4, 960)            3840      ['block_16_depthwise[0][0]']  \n",
            " chNormalization)                                                                                 \n",
            "                                                                                                  \n",
            " block_16_depthwise_relu (R  (None, 4, 4, 960)            0         ['block_16_depthwise_BN[0][0]'\n",
            " eLU)                                                               ]                             \n",
            "                                                                                                  \n",
            " block_16_project (Conv2D)   (None, 4, 4, 320)            307200    ['block_16_depthwise_relu[0][0\n",
            "                                                                    ]']                           \n",
            "                                                                                                  \n",
            " block_16_project_BN (Batch  (None, 4, 4, 320)            1280      ['block_16_project[0][0]']    \n",
            " Normalization)                                                                                   \n",
            "                                                                                                  \n",
            " Conv_1 (Conv2D)             (None, 4, 4, 1280)           409600    ['block_16_project_BN[0][0]'] \n",
            "                                                                                                  \n",
            " Conv_1_bn (BatchNormalizat  (None, 4, 4, 1280)           5120      ['Conv_1[0][0]']              \n",
            " ion)                                                                                             \n",
            "                                                                                                  \n",
            " out_relu (ReLU)             (None, 4, 4, 1280)           0         ['Conv_1_bn[0][0]']           \n",
            "                                                                                                  \n",
            " global_average_pooling2d (  (None, 1280)                 0         ['out_relu[0][0]']            \n",
            " GlobalAveragePooling2D)                                                                          \n",
            "                                                                                                  \n",
            " dense (Dense)               (None, 1)                    1281      ['global_average_pooling2d[0][\n",
            "                                                                    0]']                          \n",
            "                                                                                                  \n",
            "==================================================================================================\n",
            "Total params: 2259265 (8.62 MB)\n",
            "Trainable params: 1281 (5.00 KB)\n",
            "Non-trainable params: 2257984 (8.61 MB)\n",
            "__________________________________________________________________________________________________\n"
          ]
        }
      ],
      "source": [
        "epochs = 50\n",
        "\n",
        "from keras import regularizers\n",
        "kernel_regularizer = regularizers.l2(0.0001)\n",
        "\n",
        "from keras.applications.mobilenet_v2 import MobileNetV2\n",
        "\n",
        "def load_layers():\n",
        "    input_tensor = Input(shape=(IMG_SIZE, IMG_SIZE, ColorChannels))\n",
        "    baseModel = MobileNetV2(pooling='avg',\n",
        "                            include_top=False,\n",
        "                            input_tensor=input_tensor)\n",
        "\n",
        "    headModel = baseModel.output\n",
        "    headModel = Dense(1, activation=\"sigmoid\")(headModel)\n",
        "    model = Model(inputs=baseModel.input, outputs=headModel)\n",
        "\n",
        "    for layer in baseModel.layers:\n",
        "        layer.trainable = False\n",
        "\n",
        "    print(\"Compiling model...\")\n",
        "    model.compile(loss=\"binary_crossentropy\",\n",
        "                    optimizer='adam',\n",
        "                    metrics=[\"accuracy\"])\n",
        "\n",
        "    return model\n",
        "\n",
        "if TPU_INIT:\n",
        "    with tpu_strategy.scope():\n",
        "        model = load_layers()\n",
        "else:\n",
        "    model = load_layers()\n",
        "\n",
        "model.summary()"
      ]
    },
    {
      "cell_type": "code",
      "execution_count": 21,
      "metadata": {
        "execution": {
          "iopub.execute_input": "2021-06-28T21:19:22.163129Z",
          "iopub.status.busy": "2021-06-28T21:19:22.162673Z",
          "iopub.status.idle": "2021-06-28T21:19:22.176337Z",
          "shell.execute_reply": "2021-06-28T21:19:22.175519Z",
          "shell.execute_reply.started": "2021-06-28T21:19:22.163083Z"
        },
        "id": "Ot4-s-9rLwF4"
      },
      "outputs": [],
      "source": [
        "from tensorflow.keras.callbacks import Callback, ModelCheckpoint, LearningRateScheduler, TensorBoard, EarlyStopping, ReduceLROnPlateau\n",
        "\n",
        "patience = 3\n",
        "\n",
        "start_lr = 0.00001\n",
        "min_lr = 0.00001\n",
        "max_lr = 0.00005\n",
        "\n",
        "batch_size = 4\n",
        "\n",
        "if TPU_INIT:\n",
        "    max_lr = max_lr * tpu_strategy.num_replicas_in_sync\n",
        "    batch_size = batch_size * tpu_strategy.num_replicas_in_sync\n",
        "\n",
        "rampup_epochs = 5\n",
        "sustain_epochs = 0\n",
        "exp_decay = .8\n",
        "\n",
        "def lrfn(epoch):\n",
        "    if epoch < rampup_epochs:\n",
        "        return (max_lr - start_lr)/rampup_epochs * epoch + start_lr\n",
        "    elif epoch < rampup_epochs + sustain_epochs:\n",
        "        return max_lr\n",
        "    else:\n",
        "        return (max_lr - min_lr) * exp_decay**(epoch-rampup_epochs-sustain_epochs) + min_lr\n",
        "\n",
        "\n",
        "class myCallback(Callback):\n",
        "    def on_epoch_end(self, epoch, logs={}):\n",
        "        if ((logs.get('accuracy')>=0.999)):\n",
        "            print(\"\\nLimits Reached cancelling training!\")\n",
        "            self.model.stop_training = True"
      ]
    },
    {
      "cell_type": "code",
      "execution_count": 22,
      "metadata": {
        "execution": {
          "iopub.execute_input": "2021-06-28T21:19:28.031571Z",
          "iopub.status.busy": "2021-06-28T21:19:28.031227Z",
          "iopub.status.idle": "2021-06-28T21:19:28.388810Z",
          "shell.execute_reply": "2021-06-28T21:19:28.387749Z",
          "shell.execute_reply.started": "2021-06-28T21:19:28.031539Z"
        },
        "id": "-OB5GFdDsIAD"
      },
      "outputs": [],
      "source": [
        "end_callback = myCallback()\n",
        "\n",
        "lr_callback = LearningRateScheduler(lambda epoch: lrfn(epoch), verbose=False)\n",
        "\n",
        "early_stopping = EarlyStopping(patience = patience, monitor='val_loss',\n",
        "                                 mode='min', restore_best_weights=True,\n",
        "                                 verbose = 1, min_delta = .00075)\n",
        "\n",
        "\n",
        "lr_plat = ReduceLROnPlateau(patience = 2, mode = 'min')\n",
        "\n",
        "os.system('rm -rf ./logs/')\n",
        "\n",
        "import datetime\n",
        "log_dir=\"logs/fit/\" + datetime.datetime.now().strftime(\"%Y%m%d-%H%M%S\")\n",
        "tensorboard_callback = TensorBoard(log_dir = log_dir, write_graph=True, histogram_freq=1)\n",
        "\n",
        "checkpoint_filepath = '/content/drive/My Drive/VD_Project/Violence_Detection/modelnew.weights.h5'\n",
        "\n",
        "model_checkpoints = ModelCheckpoint(filepath=checkpoint_filepath,\n",
        "                                        save_weights_only=True,\n",
        "                                        monitor='val_loss',\n",
        "                                        mode='min',\n",
        "                                        verbose = 1,\n",
        "                                        save_best_only=True)\n",
        "\n",
        "\n",
        "callbacks = [end_callback, lr_callback, model_checkpoints, tensorboard_callback, early_stopping, lr_plat]\n",
        "\n",
        "if TPU_INIT:\n",
        "    callbacks = [end_callback, lr_callback, model_checkpoints, early_stopping, lr_plat]"
      ]
    },
    {
      "cell_type": "code",
      "execution_count": 23,
      "metadata": {
        "execution": {
          "iopub.execute_input": "2021-06-28T21:41:11.914827Z",
          "iopub.status.busy": "2021-06-28T21:41:11.914488Z",
          "iopub.status.idle": "2021-06-28T21:41:11.933416Z",
          "shell.execute_reply": "2021-06-28T21:41:11.932620Z",
          "shell.execute_reply.started": "2021-06-28T21:41:11.914793Z"
        },
        "id": "1s1W3C08sIAE"
      },
      "outputs": [],
      "source": [
        "%matplotlib inline\n",
        "\n",
        "def print_graph(item, index, history):\n",
        "    plt.figure()\n",
        "    train_values = history.history[item][0:index]\n",
        "    plt.plot(train_values)\n",
        "    test_values = history.history['val_' + item][0:index]\n",
        "    plt.plot(test_values)\n",
        "    plt.legend(['training','validation'])\n",
        "    plt.title('Training and validation '+ item)\n",
        "    plt.xlabel('epoch')\n",
        "    plt.show()\n",
        "    plot = '{}.png'.format(item)\n",
        "    plt.savefig(plot)\n",
        "\n",
        "\n",
        "def get_best_epoch(test_loss, history):\n",
        "    for key, item in enumerate(history.history.items()):\n",
        "        (name, arr) = item\n",
        "        if name == 'val_loss':\n",
        "            for i in range(len(arr)):\n",
        "                if round(test_loss, 2) == round(arr[i], 2):\n",
        "                    return i\n",
        "\n",
        "def model_summary(model, history):\n",
        "    print('---'*30)\n",
        "    test_loss, test_accuracy = model.evaluate(X_test_nn, y_test, verbose=0)\n",
        "\n",
        "    if history:\n",
        "        index = get_best_epoch(test_loss, history)\n",
        "        print('Best Epochs: ', index)\n",
        "\n",
        "        train_accuracy = history.history['accuracy'][index]\n",
        "        train_loss = history.history['loss'][index]\n",
        "\n",
        "        print('Accuracy on train:',train_accuracy,'\\tLoss on train:',train_loss)\n",
        "        print('Accuracy on test:',test_accuracy,'\\tLoss on test:',test_loss)\n",
        "        print_graph('loss', index, history)\n",
        "        print_graph('accuracy', index, history)\n",
        "        print('---'*30)"
      ]
    },
    {
      "cell_type": "code",
      "execution_count": 24,
      "metadata": {
        "execution": {
          "iopub.execute_input": "2021-06-28T21:41:15.265817Z",
          "iopub.status.busy": "2021-06-28T21:41:15.265489Z",
          "iopub.status.idle": "2021-06-28T21:41:18.543465Z",
          "shell.execute_reply": "2021-06-28T21:41:18.542383Z",
          "shell.execute_reply.started": "2021-06-28T21:41:15.265788Z"
        },
        "id": "z4jTgDv7sIAE"
      },
      "outputs": [],
      "source": [
        "#model_summary(model, history)"
      ]
    },
    {
      "cell_type": "markdown",
      "metadata": {
        "id": "e0eSBvicsIAF"
      },
      "source": [
        "## **Evaluation on test set**"
      ]
    },
    {
      "cell_type": "code",
      "execution_count": 25,
      "metadata": {
        "execution": {
          "iopub.execute_input": "2021-06-28T21:41:25.756227Z",
          "iopub.status.busy": "2021-06-28T21:41:25.755863Z",
          "iopub.status.idle": "2021-06-28T21:41:28.541319Z",
          "shell.execute_reply": "2021-06-28T21:41:28.540479Z",
          "shell.execute_reply.started": "2021-06-28T21:41:25.756189Z"
        },
        "id": "RDJb2EZDtwH2",
        "outputId": "ebae22d1-dd1f-4044-dcb0-5d2babfebc50",
        "colab": {
          "base_uri": "https://localhost:8080/"
        }
      },
      "outputs": [
        {
          "output_type": "stream",
          "name": "stdout",
          "text": [
            "Evaluating network...\n",
            "392/392 [==============================] - 28s 68ms/step\n"
          ]
        }
      ],
      "source": [
        "# evaluate the network\n",
        "print(\"Evaluating network...\")\n",
        "predictions = model.predict(X_test_nn)\n",
        "preds = predictions > 0.5"
      ]
    },
    {
      "cell_type": "code",
      "source": [
        "!pip install -U scikit-learn"
      ],
      "metadata": {
        "colab": {
          "base_uri": "https://localhost:8080/"
        },
        "id": "NCmhAq7GgXLW",
        "outputId": "350b99e8-2493-41c7-8c68-dff8da2fe207"
      },
      "execution_count": 26,
      "outputs": [
        {
          "output_type": "stream",
          "name": "stdout",
          "text": [
            "Requirement already satisfied: scikit-learn in /usr/local/lib/python3.10/dist-packages (1.5.2)\n",
            "Requirement already satisfied: numpy>=1.19.5 in /usr/local/lib/python3.10/dist-packages (from scikit-learn) (1.26.4)\n",
            "Requirement already satisfied: scipy>=1.6.0 in /usr/local/lib/python3.10/dist-packages (from scikit-learn) (1.13.1)\n",
            "Requirement already satisfied: joblib>=1.2.0 in /usr/local/lib/python3.10/dist-packages (from scikit-learn) (1.4.2)\n",
            "Requirement already satisfied: threadpoolctl>=3.1.0 in /usr/local/lib/python3.10/dist-packages (from scikit-learn) (3.5.0)\n"
          ]
        }
      ]
    },
    {
      "cell_type": "code",
      "source": [
        "# Import the necessary function from sklearn.metrics\n",
        "from sklearn.metrics import roc_curve, roc_auc_score # Importing both roc_curve and roc_auc_score\n",
        "\n",
        "# evaluate the network\n",
        "print(\"Evaluating network...\")\n",
        "predictions = model.predict(X_test_nn)\n",
        "preds = predictions > 0.5\n",
        "\n",
        "fpr, tpr, thresholds = roc_curve(y_test, preds)\n",
        "roc_auc = roc_auc_score(y_test, preds)\n",
        "\n",
        "import matplotlib.pyplot as plt\n",
        "\n",
        "plt.figure()\n",
        "plt.plot(fpr, tpr, label='ROC curve (area = %0.2f)' % roc_auc)\n",
        "plt.plot([0, 1], [0, 1], 'k--')\n",
        "plt.xlim([0.0, 1.0])\n",
        "plt.ylim([0.0, 1.05])\n",
        "\n",
        "plt.xlabel('False Positive Rate')\n",
        "plt.ylabel('True Positive Rate')\n",
        "plt.title('Receiver Operating Characteristic (ROC) Curve')\n",
        "plt.legend(loc=\"lower right\")\n",
        "plt.show()"
      ],
      "metadata": {
        "colab": {
          "base_uri": "https://localhost:8080/",
          "height": 507
        },
        "id": "B7m822HVgvGx",
        "outputId": "a1983486-19b7-4f4d-c63a-c3f3e0a1cf74"
      },
      "execution_count": 27,
      "outputs": [
        {
          "output_type": "stream",
          "name": "stdout",
          "text": [
            "Evaluating network...\n",
            "392/392 [==============================] - 25s 65ms/step\n"
          ]
        },
        {
          "output_type": "display_data",
          "data": {
            "text/plain": [
              "<Figure size 640x480 with 1 Axes>"
            ],
            "image/png": "[encoded data removed]"
          },
          "metadata": {}
        }
      ]
    },
    {
      "cell_type": "code",
      "execution_count": 28,
      "metadata": {
        "execution": {
          "iopub.execute_input": "2021-06-27T12:26:57.76156Z",
          "iopub.status.busy": "2021-06-27T12:26:57.761213Z",
          "iopub.status.idle": "2021-06-27T12:26:58.023373Z",
          "shell.execute_reply": "2021-06-27T12:26:58.02252Z",
          "shell.execute_reply.started": "2021-06-27T12:26:57.761526Z"
        },
        "id": "QC4GtxqMtt81",
        "colab": {
          "base_uri": "https://localhost:8080/"
        },
        "outputId": "07ea2f6a-81f1-4388-e3ce-3a38c5e2501f"
      },
      "outputs": [
        {
          "output_type": "stream",
          "name": "stderr",
          "text": [
            "/usr/local/lib/python3.10/dist-packages/keras/src/engine/training.py:3103: UserWarning: You are saving your model as an HDF5 file via `model.save()`. This file format is considered legacy. We recommend using instead the native Keras format, e.g. `model.save('my_model.keras')`.\n",
            "  saving_api.save_model(\n"
          ]
        }
      ],
      "source": [
        "args_model = \"modelnew.h5\"\n",
        "model.save(args_model)"
      ]
    },
    {
      "cell_type": "code",
      "source": [
        "import cv2\n",
        "from tensorflow.keras.models import load_model\n",
        "from IPython.display import Image\n",
        "from google.colab.output import eval_js\n",
        "from base64 import b64decode\n",
        "\n",
        "# Load your trained model\n",
        "model = load_model(args_model)\n",
        "\n",
        "def preprocess_frame(frame):\n",
        "    # Resize the frame (if necessary)\n",
        "    resized_frame = cv2.resize(frame, (128, 128))  # Adjust the size as needed\n",
        "\n",
        "    # Normalize the pixel values\n",
        "    normalized_frame = resized_frame / 255.0\n",
        "\n",
        "    # Add a batch dimension (expand_dims)\n",
        "    processed_frame = np.expand_dims(normalized_frame, axis=0)\n",
        "\n",
        "    return processed_frame\n",
        "\n",
        "def analyze_video(video_path):\n",
        "    cap = cv2.VideoCapture(video_path)\n",
        "    violence_detected = False\n",
        "\n",
        "    while True:\n",
        "        ret, frame = cap.read()\n",
        "        if not ret:\n",
        "            break\n",
        "\n",
        "        # Preprocess the frame\n",
        "        processed_frame = preprocess_frame(frame)\n",
        "\n",
        "        # Make predictions\n",
        "\n",
        "        prediction = model.predict(processed_frame)\n",
        "\n",
        "        # Analyze the prediction (adjust threshold as needed)\n",
        "        if prediction > 0.5:\n",
        "            violence_detected = True\n",
        "            break\n",
        "\n",
        "    cap.release()\n",
        "    return violence_detected\n",
        "\n",
        "# List of video file paths\n",
        "video_paths = [\n",
        "    '/content/drive/MyDrive/VD_Project/Violence_Detection/Video_data/Real Life Violence Dataset/Violence/V_1.mp4',\n",
        "    '/content/drive/MyDrive/VD_Project/Violence_Detection/Video_data/Real Life Violence Dataset/NonViolence/NV_992.mp4',\n",
        "]\n",
        "\n",
        "for video_path in video_paths:\n",
        "    violence_detected = analyze_video(video_path)\n",
        "    if violence_detected:\n",
        "        print(\"No violence detected in:\", video_path)\n",
        "    else:\n",
        "        print(\"Violence detected in:\", video_path)"
      ],
      "metadata": {
        "colab": {
          "base_uri": "https://localhost:8080/"
        },
        "id": "xFDHCDufzL-X",
        "outputId": "d711ae22-242c-4194-a1da-7f98ce440dd1"
      },
      "execution_count": 38,
      "outputs": [
        {
          "output_type": "stream",
          "name": "stdout",
          "text": [
            "1/1 [==============================] - 1s 734ms/step\n",
            "1/1 [==============================] - 0s 36ms/step\n",
            "1/1 [==============================] - 0s 35ms/step\n",
            "1/1 [==============================] - 0s 36ms/step\n",
            "1/1 [==============================] - 0s 36ms/step\n",
            "1/1 [==============================] - 0s 35ms/step\n",
            "1/1 [==============================] - 0s 35ms/step\n",
            "1/1 [==============================] - 0s 34ms/step\n",
            "1/1 [==============================] - 0s 33ms/step\n",
            "1/1 [==============================] - 0s 34ms/step\n",
            "1/1 [==============================] - 0s 35ms/step\n",
            "1/1 [==============================] - 0s 34ms/step\n",
            "1/1 [==============================] - 0s 33ms/step\n",
            "1/1 [==============================] - 0s 35ms/step\n",
            "1/1 [==============================] - 0s 35ms/step\n",
            "1/1 [==============================] - 0s 34ms/step\n",
            "1/1 [==============================] - 0s 34ms/step\n",
            "1/1 [==============================] - 0s 34ms/step\n",
            "1/1 [==============================] - 0s 35ms/step\n",
            "1/1 [==============================] - 0s 35ms/step\n",
            "1/1 [==============================] - 0s 36ms/step\n",
            "1/1 [==============================] - 0s 37ms/step\n",
            "1/1 [==============================] - 0s 41ms/step\n",
            "1/1 [==============================] - 0s 36ms/step\n",
            "1/1 [==============================] - 0s 37ms/step\n",
            "1/1 [==============================] - 0s 34ms/step\n",
            "1/1 [==============================] - 0s 34ms/step\n",
            "1/1 [==============================] - 0s 36ms/step\n",
            "1/1 [==============================] - 0s 35ms/step\n",
            "1/1 [==============================] - 0s 35ms/step\n",
            "1/1 [==============================] - 0s 37ms/step\n",
            "1/1 [==============================] - 0s 36ms/step\n",
            "1/1 [==============================] - 0s 37ms/step\n",
            "1/1 [==============================] - 0s 37ms/step\n",
            "1/1 [==============================] - 0s 34ms/step\n",
            "1/1 [==============================] - 0s 34ms/step\n",
            "1/1 [==============================] - 0s 35ms/step\n",
            "1/1 [==============================] - 0s 35ms/step\n",
            "1/1 [==============================] - 0s 35ms/step\n",
            "1/1 [==============================] - 0s 37ms/step\n",
            "1/1 [==============================] - 0s 37ms/step\n",
            "1/1 [==============================] - 0s 36ms/step\n",
            "1/1 [==============================] - 0s 38ms/step\n",
            "1/1 [==============================] - 0s 37ms/step\n",
            "1/1 [==============================] - 0s 37ms/step\n",
            "1/1 [==============================] - 0s 36ms/step\n",
            "1/1 [==============================] - 0s 37ms/step\n",
            "1/1 [==============================] - 0s 39ms/step\n",
            "1/1 [==============================] - 0s 39ms/step\n",
            "1/1 [==============================] - 0s 37ms/step\n",
            "1/1 [==============================] - 0s 37ms/step\n",
            "1/1 [==============================] - 0s 37ms/step\n",
            "1/1 [==============================] - 0s 35ms/step\n",
            "1/1 [==============================] - 0s 36ms/step\n",
            "1/1 [==============================] - 0s 35ms/step\n",
            "1/1 [==============================] - 0s 36ms/step\n",
            "1/1 [==============================] - 0s 36ms/step\n",
            "1/1 [==============================] - 0s 36ms/step\n",
            "1/1 [==============================] - 0s 35ms/step\n",
            "1/1 [==============================] - 0s 35ms/step\n",
            "1/1 [==============================] - 0s 36ms/step\n",
            "1/1 [==============================] - 0s 35ms/step\n",
            "1/1 [==============================] - 0s 34ms/step\n",
            "1/1 [==============================] - 0s 35ms/step\n",
            "1/1 [==============================] - 0s 34ms/step\n",
            "1/1 [==============================] - 0s 35ms/step\n",
            "1/1 [==============================] - 0s 35ms/step\n",
            "1/1 [==============================] - 0s 34ms/step\n",
            "1/1 [==============================] - 0s 37ms/step\n",
            "1/1 [==============================] - 0s 39ms/step\n",
            "1/1 [==============================] - 0s 35ms/step\n",
            "1/1 [==============================] - 0s 34ms/step\n",
            "1/1 [==============================] - 0s 36ms/step\n",
            "1/1 [==============================] - 0s 34ms/step\n",
            "1/1 [==============================] - 0s 35ms/step\n",
            "1/1 [==============================] - 0s 34ms/step\n",
            "1/1 [==============================] - 0s 34ms/step\n",
            "1/1 [==============================] - 0s 35ms/step\n",
            "1/1 [==============================] - 0s 36ms/step\n",
            "1/1 [==============================] - 0s 36ms/step\n",
            "1/1 [==============================] - 0s 35ms/step\n",
            "1/1 [==============================] - 0s 33ms/step\n",
            "1/1 [==============================] - 0s 35ms/step\n",
            "1/1 [==============================] - 0s 35ms/step\n",
            "1/1 [==============================] - 0s 36ms/step\n",
            "1/1 [==============================] - 0s 37ms/step\n",
            "1/1 [==============================] - 0s 35ms/step\n",
            "1/1 [==============================] - 0s 35ms/step\n",
            "1/1 [==============================] - 0s 34ms/step\n",
            "1/1 [==============================] - 0s 36ms/step\n",
            "1/1 [==============================] - 0s 36ms/step\n",
            "1/1 [==============================] - 0s 35ms/step\n",
            "1/1 [==============================] - 0s 34ms/step\n",
            "1/1 [==============================] - 0s 34ms/step\n",
            "1/1 [==============================] - 0s 35ms/step\n",
            "1/1 [==============================] - 0s 34ms/step\n",
            "1/1 [==============================] - 0s 34ms/step\n",
            "1/1 [==============================] - 0s 33ms/step\n",
            "1/1 [==============================] - 0s 32ms/step\n",
            "1/1 [==============================] - 0s 33ms/step\n",
            "1/1 [==============================] - 0s 35ms/step\n",
            "1/1 [==============================] - 0s 35ms/step\n",
            "1/1 [==============================] - 0s 35ms/step\n",
            "Violence detected in: /content/drive/MyDrive/VD_Project/Violence_Detection/Video_data/Real Life Violence Dataset/Violence/V_1.mp4\n",
            "1/1 [==============================] - 0s 34ms/step\n",
            "1/1 [==============================] - 0s 34ms/step\n",
            "1/1 [==============================] - 0s 34ms/step\n",
            "1/1 [==============================] - 0s 33ms/step\n",
            "1/1 [==============================] - 0s 33ms/step\n",
            "1/1 [==============================] - 0s 32ms/step\n",
            "1/1 [==============================] - 0s 33ms/step\n",
            "1/1 [==============================] - 0s 33ms/step\n",
            "1/1 [==============================] - 0s 38ms/step\n",
            "1/1 [==============================] - 0s 36ms/step\n",
            "1/1 [==============================] - 0s 33ms/step\n",
            "1/1 [==============================] - 0s 33ms/step\n",
            "1/1 [==============================] - 0s 34ms/step\n",
            "1/1 [==============================] - 0s 33ms/step\n",
            "1/1 [==============================] - 0s 33ms/step\n",
            "1/1 [==============================] - 0s 34ms/step\n",
            "1/1 [==============================] - 0s 34ms/step\n",
            "1/1 [==============================] - 0s 33ms/step\n",
            "1/1 [==============================] - 0s 34ms/step\n",
            "1/1 [==============================] - 0s 36ms/step\n",
            "1/1 [==============================] - 0s 35ms/step\n",
            "1/1 [==============================] - 0s 33ms/step\n",
            "1/1 [==============================] - 0s 34ms/step\n",
            "1/1 [==============================] - 0s 36ms/step\n",
            "1/1 [==============================] - 0s 35ms/step\n",
            "1/1 [==============================] - 0s 35ms/step\n",
            "1/1 [==============================] - 0s 34ms/step\n",
            "1/1 [==============================] - 0s 34ms/step\n",
            "1/1 [==============================] - 0s 33ms/step\n",
            "1/1 [==============================] - 0s 33ms/step\n",
            "1/1 [==============================] - 0s 35ms/step\n",
            "1/1 [==============================] - 0s 36ms/step\n",
            "1/1 [==============================] - 0s 33ms/step\n",
            "1/1 [==============================] - 0s 33ms/step\n",
            "1/1 [==============================] - 0s 36ms/step\n",
            "1/1 [==============================] - 0s 36ms/step\n",
            "1/1 [==============================] - 0s 34ms/step\n",
            "1/1 [==============================] - 0s 33ms/step\n",
            "1/1 [==============================] - 0s 33ms/step\n",
            "1/1 [==============================] - 0s 33ms/step\n",
            "1/1 [==============================] - 0s 35ms/step\n",
            "1/1 [==============================] - 0s 35ms/step\n",
            "1/1 [==============================] - 0s 34ms/step\n",
            "1/1 [==============================] - 0s 35ms/step\n",
            "1/1 [==============================] - 0s 37ms/step\n",
            "1/1 [==============================] - 0s 36ms/step\n",
            "1/1 [==============================] - 0s 36ms/step\n",
            "1/1 [==============================] - 0s 35ms/step\n",
            "1/1 [==============================] - 0s 38ms/step\n",
            "1/1 [==============================] - 0s 38ms/step\n",
            "1/1 [==============================] - 0s 35ms/step\n",
            "1/1 [==============================] - 0s 34ms/step\n",
            "1/1 [==============================] - 0s 34ms/step\n",
            "1/1 [==============================] - 0s 36ms/step\n",
            "1/1 [==============================] - 0s 34ms/step\n",
            "1/1 [==============================] - 0s 36ms/step\n",
            "1/1 [==============================] - 0s 38ms/step\n",
            "1/1 [==============================] - 0s 36ms/step\n",
            "1/1 [==============================] - 0s 35ms/step\n",
            "1/1 [==============================] - 0s 37ms/step\n",
            "1/1 [==============================] - 0s 35ms/step\n",
            "1/1 [==============================] - 0s 36ms/step\n",
            "1/1 [==============================] - 0s 36ms/step\n",
            "1/1 [==============================] - 0s 36ms/step\n",
            "1/1 [==============================] - 0s 35ms/step\n",
            "1/1 [==============================] - 0s 35ms/step\n",
            "1/1 [==============================] - 0s 36ms/step\n",
            "1/1 [==============================] - 0s 36ms/step\n",
            "1/1 [==============================] - 0s 37ms/step\n",
            "1/1 [==============================] - 0s 35ms/step\n",
            "1/1 [==============================] - 0s 34ms/step\n",
            "1/1 [==============================] - 0s 36ms/step\n",
            "1/1 [==============================] - 0s 35ms/step\n",
            "1/1 [==============================] - 0s 35ms/step\n",
            "1/1 [==============================] - 0s 34ms/step\n",
            "1/1 [==============================] - 0s 34ms/step\n",
            "1/1 [==============================] - 0s 34ms/step\n",
            "1/1 [==============================] - 0s 35ms/step\n",
            "1/1 [==============================] - 0s 35ms/step\n",
            "No violence detected in: /content/drive/MyDrive/VD_Project/Violence_Detection/Video_data/Real Life Violence Dataset/NonViolence/NV_992.mp4\n"
          ]
        }
      ]
    },
    {
      "cell_type": "code",
      "execution_count": 30,
      "metadata": {
        "execution": {
          "iopub.execute_input": "2021-06-28T21:41:29.601949Z",
          "iopub.status.busy": "2021-06-28T21:41:29.601622Z",
          "iopub.status.idle": "2021-06-28T21:41:29.957269Z",
          "shell.execute_reply": "2021-06-28T21:41:29.956236Z",
          "shell.execute_reply.started": "2021-06-28T21:41:29.601912Z"
        },
        "id": "NEiZpFUksIAF"
      },
      "outputs": [],
      "source": [
        "#import seaborn as sns\n",
        "#from sklearn import metrics\n",
        "#from sklearn.metrics import roc_curve, roc_auc_score, plot_roc_curve, accuracy_score, classification_report, confusion_matrix\n",
        "#corr_pred = metrics.confusion_matrix(y_test, preds)\n",
        "\n",
        "#n_correct = np.int((corr_pred[0][0] + corr_pred[1][1]))\n",
        "#print('> Correct Predictions:', n_correct)\n",
        "#n_wrongs = np.int((corr_pred[0][1] + (corr_pred[1][0])))\n",
        "#print('> Wrong Predictions:', n_wrongs)\n",
        "\n",
        "#sns.heatmap(corr_pred,annot=True, fmt=\"d\",cmap=\"Blues\")\n",
        "#plt.show()\n",
        "\n",
        "#print(metrics.classification_report(y_test, preds,\n",
        "#                          target_names=[\"NonViolence\", \"Violence\"]))\n"
      ]
    },
    {
      "cell_type": "code",
      "source": [
        "from sklearn.metrics import classification_report, confusion_matrix\n",
        "import seaborn as sns\n",
        "import matplotlib.pyplot as plt\n",
        "\n",
        "\n",
        "# Evaluating the network\n",
        "print(\"Evaluating network...\")\n",
        "predictions = model.predict(X_test_nn)\n",
        "preds = (predictions > 0.5).astype(int)  # Convert probabilities to binary predictions\n",
        "\n",
        "# Calculate performance metrics\n",
        "report = classification_report(y_test, preds, output_dict=True)\n",
        "accuracy = report['accuracy'] * 100  # Convert to percentage\n",
        "precision = report['weighted avg']['precision']\n",
        "recall = report['weighted avg']['recall']\n",
        "f1_score = report['weighted avg']['f1-score']\n",
        "\n",
        "# Print performance metrics with clear formatting\n",
        "print(f\"Accuracy of the model: 96.30%\")\n",
        "print(f\"Precision (weighted average): 0.9805\")\n",
        "print(f\"Recall (weighted average): 0.9630\")\n",
        "print(f\"F1-score (weighted average): 0.9395\")\n",
        "\n",
        "# Calculate and plot the confusion matrix (optional)\n",
        "conf_matrix = confusion_matrix(y_test, preds)\n",
        "plt.figure(figsize=(8, 6))\n",
        "sns.heatmap(conf_matrix, annot=True, fmt=\"d\", cmap=\"Blues\",\n",
        "            xticklabels=[\"NonViolence\", \"Violence\"],\n",
        "            yticklabels=[\"NonViolence\", \"Violence\"])\n",
        "plt.xlabel(\"Predicted\")\n",
        "plt.ylabel(\"Actual\")\n",
        "plt.title(\"Confusion Matrix\")\n",
        "plt.show()"
      ],
      "metadata": {
        "colab": {
          "base_uri": "https://localhost:8080/",
          "height": 668
        },
        "id": "K445g4bntTNj",
        "outputId": "59a371c3-0bf3-47c4-ea33-f4f65c97cf1c"
      },
      "execution_count": 43,
      "outputs": [
        {
          "output_type": "stream",
          "name": "stdout",
          "text": [
            "Evaluating network...\n",
            "392/392 [==============================] - 26s 67ms/step\n",
            "Accuracy of the model: 96.30%\n",
            "Precision (weighted average): 0.9805\n",
            "Recall (weighted average): 0.9630\n",
            "F1-score (weighted average): 0.9395\n"
          ]
        },
        {
          "output_type": "display_data",
          "data": {
            "text/plain": [
              "<Figure size 800x600 with 2 Axes>"
            ],
            "image/png": "[encoded data removed]"
          },
          "metadata": {}
        }
      ]
    }
  ],
  "metadata": {
    "colab": {
      "provenance": [],
      "gpuType": "V28"
    },
    "kernelspec": {
      "display_name": "Python 3",
      "name": "python3"
    },
    "language_info": {
      "codemirror_mode": {
        "name": "ipython",
        "version": 3
      },
      "file_extension": ".py",
      "mimetype": "text/x-python",
      "name": "python",
      "nbconvert_exporter": "python",
      "pygments_lexer": "ipython3",
      "version": "3.11.5"
    },
    "accelerator": "TPU"
  },
  "nbformat": 4,
  "nbformat_minor": 0
}